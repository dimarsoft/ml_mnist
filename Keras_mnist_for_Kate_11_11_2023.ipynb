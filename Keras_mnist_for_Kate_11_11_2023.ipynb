{
  "nbformat": 4,
  "nbformat_minor": 0,
  "metadata": {
    "colab": {
      "provenance": [],
      "gpuType": "T4"
    },
    "kernelspec": {
      "name": "python3",
      "display_name": "Python 3"
    },
    "language_info": {
      "name": "python"
    },
    "accelerator": "GPU"
  },
  "cells": [
    {
      "cell_type": "markdown",
      "source": [
        "# Введение в нейронные сети\n",
        "## Задание 1"
      ],
      "metadata": {
        "id": "VoBkgRbDPGba"
      }
    },
    {
      "cell_type": "markdown",
      "source": [
        "### Импортируем все необходимые библиотеки"
      ],
      "metadata": {
        "id": "Iyz5JKNdPjM8"
      }
    },
    {
      "cell_type": "code",
      "source": [
        "\"\"\"\n",
        "Разпознование цифр Mnist с помощью Keras (tensorflow)\n",
        "\"\"\"\n",
        "from typing import Tuple\n",
        "\n",
        "import numpy as np\n",
        "import cv2\n",
        "\n",
        "import tensorflow as tf\n",
        "from keras.models import Sequential\n",
        "from keras.layers import Dense, Dropout, Activation, Flatten\n",
        "from keras.layers import Convolution2D, MaxPooling2D\n",
        "from keras.src.utils import to_categorical\n",
        "\n",
        "from keras.datasets import mnist\n",
        "\n",
        "np.random.seed(123)\n"
      ],
      "metadata": {
        "id": "cC6SURVEPZoz"
      },
      "execution_count": 1,
      "outputs": []
    },
    {
      "cell_type": "markdown",
      "source": [
        "### Скачиваем датасет mnist"
      ],
      "metadata": {
        "id": "XoW8vQpEPqWF"
      }
    },
    {
      "cell_type": "code",
      "source": [
        "\n",
        "def get_train_and_test_data() -> Tuple[Tuple[np.ndarray, np.ndarray], Tuple[np.ndarray, np.ndarray]]:\n",
        "    \"\"\"\n",
        "    Загрузка и подготовка датасета Mnist\n",
        "    :return: (x_train, y_train), (x_test, y_test)\n",
        "    \"\"\"\n",
        "\n",
        "    # загружаем датасет\n",
        "    (x_train, y_train), (x_test, y_test) = mnist.load_data()\n",
        "\n",
        "    x_train = x_train.astype(dtype=float)\n",
        "    x_test = x_test.astype(dtype=float)\n",
        "\n",
        "    x_train /= 255\n",
        "    x_test /= 255\n",
        "\n",
        "    y_train = to_categorical(y_train, 10)\n",
        "    y_test = to_categorical(y_test, 10)\n",
        "\n",
        "    return (x_train, y_train), (x_test, y_test)"
      ],
      "metadata": {
        "id": "gharAW-jPp2N"
      },
      "execution_count": 2,
      "outputs": []
    },
    {
      "cell_type": "markdown",
      "source": [
        "**Создаём модель 1**"
      ],
      "metadata": {
        "id": "rE4YiK6H7U81"
      }
    },
    {
      "cell_type": "code",
      "source": [
        "\n",
        "def create_model():\n",
        "    \"\"\"\n",
        "    Создание простой модели\n",
        "    :return:\n",
        "    \"\"\"\n",
        "    new_model = Sequential()\n",
        "\n",
        "    new_model.add(Flatten())\n",
        "    new_model.add(Dense(128))\n",
        "    new_model.add(Activation(tf.nn.relu))\n",
        "    new_model.add(Dense(64))\n",
        "    new_model.add(Activation(tf.nn.relu))\n",
        "    new_model.add(Dense(10))\n",
        "    new_model.add(Activation(tf.nn.sigmoid))\n",
        "\n",
        "    return new_model"
      ],
      "metadata": {
        "id": "VIjU1dHwEn1-"
      },
      "execution_count": 3,
      "outputs": []
    },
    {
      "cell_type": "markdown",
      "source": [
        "**Создаём модель 2**"
      ],
      "metadata": {
        "id": "3G9_yOLC7Xv6"
      }
    },
    {
      "cell_type": "code",
      "source": [
        "def create_model_conv2d():\n",
        "    \"\"\"\n",
        "    Создание более сложной/тяжелой модели\n",
        "    :return:\n",
        "    \"\"\"\n",
        "    new_model = Sequential()\n",
        "\n",
        "    new_model.add(Convolution2D(32, (3, 3), input_shape=(28, 28, 1)))\n",
        "    new_model.add(Activation(tf.nn.relu))\n",
        "    new_model.add(Convolution2D(32, (3, 3)))\n",
        "    new_model.add(Activation(tf.nn.relu))\n",
        "    new_model.add(MaxPooling2D(pool_size=(2, 2)))\n",
        "    new_model.add(Dropout(0.25))\n",
        "\n",
        "    new_model.add(Flatten())\n",
        "    new_model.add(Dense(128))\n",
        "    new_model.add(Activation(tf.nn.relu))\n",
        "    new_model.add(Dropout(0.5))\n",
        "    new_model.add(Dense(10))\n",
        "    new_model.add(Activation(tf.nn.softmax))\n",
        "\n",
        "    return new_model"
      ],
      "metadata": {
        "id": "FbMw4R0PEsW4"
      },
      "execution_count": 4,
      "outputs": []
    },
    {
      "cell_type": "markdown",
      "source": [
        "**Обучение модели**"
      ],
      "metadata": {
        "id": "Tcd23sDi7cJA"
      }
    },
    {
      "cell_type": "code",
      "source": [
        "\n",
        "def train_model(model_to_train, x_train: np.ndarray, y_train: np.ndarray, batch_size=32, epochs=10, verbose=1) -> None:\n",
        "    \"\"\"\n",
        "    Обучение модели\n",
        "    :param model_to_train: Модель\n",
        "    :param x_train:\n",
        "    :param y_train:\n",
        "    :param batch_size:\n",
        "    :param epochs:\n",
        "    :param verbose:\n",
        "    :return:\n",
        "    \"\"\"\n",
        "\n",
        "    # выбираем оптимизатор\n",
        "    optimizer = tf.keras.optimizers.SGD()\n",
        "\n",
        "    # функция потерь\n",
        "    loss = tf.keras.losses.CategoricalCrossentropy()\n",
        "\n",
        "    # подготовка модели и задание метрик для обучения\n",
        "    model_to_train.compile(loss=loss, optimizer=optimizer, metrics=['accuracy'])\n",
        "\n",
        "    # обучение модели\n",
        "    model_to_train.fit(x_train, y_train, batch_size=batch_size, epochs=epochs, verbose=verbose)\n",
        "\n",
        "    # summary модели\n",
        "\n",
        "    model_to_train.summary()\n",
        "\n"
      ],
      "metadata": {
        "id": "7y-poVv3FJDr"
      },
      "execution_count": 35,
      "outputs": []
    },
    {
      "cell_type": "markdown",
      "source": [
        "**Проверка модели**"
      ],
      "metadata": {
        "id": "RkkwrSqS7iK2"
      }
    },
    {
      "cell_type": "code",
      "source": [
        "def test_model(model_to_test, x_test: np.ndarray, y_test: np.ndarray, show_image=True) -> None:\n",
        "    \"\"\"\n",
        "    Проверка модели на тестовой выбборке\n",
        "    :param model_to_test:\n",
        "    :param x_test:\n",
        "    :param y_test:\n",
        "    :param show_image: Показывать картинку\n",
        "    :return:\n",
        "    \"\"\"\n",
        "\n",
        "    # выбираем несколько картиток случайным образом\n",
        "    for i in np.random.choice(np.arange(0, len(y_test)), size=(20,)):\n",
        "        # распознование\n",
        "        probs = model_to_test.predict(x_test[np.newaxis, i], verbose=0)\n",
        "        # выбираем с макс. вероятностью\n",
        "        prediction = probs.argmax(axis=1)\n",
        "\n",
        "        print(f\"{i}, Actual digit is {y_test[i].argmax()}, predicted {prediction[0]}\")\n",
        "\n",
        "        if show_image:\n",
        "            image = (x_test[i] * 255).reshape((28, 28)).astype(\"uint8\")\n",
        "\n",
        "            cv2.imshow(\"Digit\", image)\n",
        "            cv2.waitKey(0)"
      ],
      "metadata": {
        "id": "t9zTWezR_wuH"
      },
      "execution_count": 6,
      "outputs": []
    },
    {
      "cell_type": "markdown",
      "source": [
        "**Модель №1**"
      ],
      "metadata": {
        "id": "QJowwrEx7oon"
      }
    },
    {
      "cell_type": "code",
      "source": [
        "def model_1():\n",
        "    print(\"Test simple model\")\n",
        "    model = create_model()\n",
        "\n",
        "    (X_train, y_train), (X_test, y_test) = get_train_and_test_data()\n",
        "\n",
        "    train_model(model_to_train=model, x_train=X_train, y_train=y_train, epochs=50)\n",
        "    test_model(model_to_test=model, x_test=X_test, y_test=y_test, show_image=False)"
      ],
      "metadata": {
        "id": "KDK8CNTJIn0P"
      },
      "execution_count": 41,
      "outputs": []
    },
    {
      "cell_type": "code",
      "source": [
        "model_1()"
      ],
      "metadata": {
        "colab": {
          "base_uri": "https://localhost:8080/"
        },
        "id": "i7kppp2p-yZ_",
        "outputId": "2615304f-868e-46b9-f481-2378f083f5d3"
      },
      "execution_count": 42,
      "outputs": [
        {
          "output_type": "stream",
          "name": "stdout",
          "text": [
            "Test simple model\n",
            "Epoch 1/50\n",
            "1875/1875 [==============================] - 7s 3ms/step - loss: 0.7908 - accuracy: 0.7841\n",
            "Epoch 2/50\n",
            "1875/1875 [==============================] - 6s 3ms/step - loss: 0.3123 - accuracy: 0.9106\n",
            "Epoch 3/50\n",
            "1875/1875 [==============================] - 5s 3ms/step - loss: 0.2562 - accuracy: 0.9272\n",
            "Epoch 4/50\n",
            "1875/1875 [==============================] - 6s 3ms/step - loss: 0.2211 - accuracy: 0.9377\n",
            "Epoch 5/50\n",
            "1875/1875 [==============================] - 6s 3ms/step - loss: 0.1936 - accuracy: 0.9447\n",
            "Epoch 6/50\n",
            "1875/1875 [==============================] - 5s 3ms/step - loss: 0.1716 - accuracy: 0.9507\n",
            "Epoch 7/50\n",
            "1875/1875 [==============================] - 6s 3ms/step - loss: 0.1540 - accuracy: 0.9556\n",
            "Epoch 8/50\n",
            "1875/1875 [==============================] - 6s 3ms/step - loss: 0.1396 - accuracy: 0.9601\n",
            "Epoch 9/50\n",
            "1875/1875 [==============================] - 6s 3ms/step - loss: 0.1279 - accuracy: 0.9633\n",
            "Epoch 10/50\n",
            "1875/1875 [==============================] - 5s 3ms/step - loss: 0.1182 - accuracy: 0.9660\n",
            "Epoch 11/50\n",
            "1875/1875 [==============================] - 6s 3ms/step - loss: 0.1087 - accuracy: 0.9686\n",
            "Epoch 12/50\n",
            "1875/1875 [==============================] - 6s 3ms/step - loss: 0.1016 - accuracy: 0.9710\n",
            "Epoch 13/50\n",
            "1875/1875 [==============================] - 5s 3ms/step - loss: 0.0946 - accuracy: 0.9729\n",
            "Epoch 14/50\n",
            "1875/1875 [==============================] - 6s 3ms/step - loss: 0.0885 - accuracy: 0.9750\n",
            "Epoch 15/50\n",
            "1875/1875 [==============================] - 6s 3ms/step - loss: 0.0831 - accuracy: 0.9763\n",
            "Epoch 16/50\n",
            "1875/1875 [==============================] - 6s 3ms/step - loss: 0.0785 - accuracy: 0.9772\n",
            "Epoch 17/50\n",
            "1875/1875 [==============================] - 5s 3ms/step - loss: 0.0740 - accuracy: 0.9790\n",
            "Epoch 18/50\n",
            "1875/1875 [==============================] - 5s 3ms/step - loss: 0.0705 - accuracy: 0.9802\n",
            "Epoch 19/50\n",
            "1875/1875 [==============================] - 6s 3ms/step - loss: 0.0660 - accuracy: 0.9817\n",
            "Epoch 20/50\n",
            "1875/1875 [==============================] - 5s 3ms/step - loss: 0.0625 - accuracy: 0.9823\n",
            "Epoch 21/50\n",
            "1875/1875 [==============================] - 6s 3ms/step - loss: 0.0601 - accuracy: 0.9832\n",
            "Epoch 22/50\n",
            "1875/1875 [==============================] - 5s 3ms/step - loss: 0.0567 - accuracy: 0.9839\n",
            "Epoch 23/50\n",
            "1875/1875 [==============================] - 7s 3ms/step - loss: 0.0542 - accuracy: 0.9850\n",
            "Epoch 24/50\n",
            "1875/1875 [==============================] - 6s 3ms/step - loss: 0.0518 - accuracy: 0.9857\n",
            "Epoch 25/50\n",
            "1875/1875 [==============================] - 5s 3ms/step - loss: 0.0494 - accuracy: 0.9863\n",
            "Epoch 26/50\n",
            "1875/1875 [==============================] - 6s 3ms/step - loss: 0.0468 - accuracy: 0.9872\n",
            "Epoch 27/50\n",
            "1875/1875 [==============================] - 5s 3ms/step - loss: 0.0450 - accuracy: 0.9879\n",
            "Epoch 28/50\n",
            "1875/1875 [==============================] - 6s 3ms/step - loss: 0.0431 - accuracy: 0.9882\n",
            "Epoch 29/50\n",
            "1875/1875 [==============================] - 5s 3ms/step - loss: 0.0411 - accuracy: 0.9889\n",
            "Epoch 30/50\n",
            "1875/1875 [==============================] - 7s 4ms/step - loss: 0.0393 - accuracy: 0.9896\n",
            "Epoch 31/50\n",
            "1875/1875 [==============================] - 6s 3ms/step - loss: 0.0378 - accuracy: 0.9898\n",
            "Epoch 32/50\n",
            "1875/1875 [==============================] - 5s 3ms/step - loss: 0.0359 - accuracy: 0.9905\n",
            "Epoch 33/50\n",
            "1875/1875 [==============================] - 6s 3ms/step - loss: 0.0345 - accuracy: 0.9909\n",
            "Epoch 34/50\n",
            "1875/1875 [==============================] - 5s 3ms/step - loss: 0.0325 - accuracy: 0.9916\n",
            "Epoch 35/50\n",
            "1875/1875 [==============================] - 6s 3ms/step - loss: 0.0314 - accuracy: 0.9921\n",
            "Epoch 36/50\n",
            "1875/1875 [==============================] - 5s 3ms/step - loss: 0.0300 - accuracy: 0.9923\n",
            "Epoch 37/50\n",
            "1875/1875 [==============================] - 6s 3ms/step - loss: 0.0288 - accuracy: 0.9930\n",
            "Epoch 38/50\n",
            "1875/1875 [==============================] - 6s 3ms/step - loss: 0.0275 - accuracy: 0.9932\n",
            "Epoch 39/50\n",
            "1875/1875 [==============================] - 5s 3ms/step - loss: 0.0265 - accuracy: 0.9934\n",
            "Epoch 40/50\n",
            "1875/1875 [==============================] - 6s 3ms/step - loss: 0.0254 - accuracy: 0.9939\n",
            "Epoch 41/50\n",
            "1875/1875 [==============================] - 5s 3ms/step - loss: 0.0242 - accuracy: 0.9943\n",
            "Epoch 42/50\n",
            "1875/1875 [==============================] - 5s 3ms/step - loss: 0.0232 - accuracy: 0.9948\n",
            "Epoch 43/50\n",
            "1875/1875 [==============================] - 6s 3ms/step - loss: 0.0221 - accuracy: 0.9951\n",
            "Epoch 44/50\n",
            "1875/1875 [==============================] - 5s 3ms/step - loss: 0.0210 - accuracy: 0.9954\n",
            "Epoch 45/50\n",
            "1875/1875 [==============================] - 7s 4ms/step - loss: 0.0203 - accuracy: 0.9953\n",
            "Epoch 46/50\n",
            "1875/1875 [==============================] - 5s 3ms/step - loss: 0.0193 - accuracy: 0.9959\n",
            "Epoch 47/50\n",
            "1875/1875 [==============================] - 6s 3ms/step - loss: 0.0187 - accuracy: 0.9962\n",
            "Epoch 48/50\n",
            "1875/1875 [==============================] - 6s 3ms/step - loss: 0.0178 - accuracy: 0.9965\n",
            "Epoch 49/50\n",
            "1875/1875 [==============================] - 5s 3ms/step - loss: 0.0169 - accuracy: 0.9967\n",
            "Epoch 50/50\n",
            "1875/1875 [==============================] - 6s 3ms/step - loss: 0.0162 - accuracy: 0.9971\n",
            "Model: \"sequential_14\"\n",
            "_________________________________________________________________\n",
            " Layer (type)                Output Shape              Param #   \n",
            "=================================================================\n",
            " flatten_14 (Flatten)        (32, 784)                 0         \n",
            "                                                                 \n",
            " dense_39 (Dense)            (32, 128)                 100480    \n",
            "                                                                 \n",
            " activation_45 (Activation)  (32, 128)                 0         \n",
            "                                                                 \n",
            " dense_40 (Dense)            (32, 64)                  8256      \n",
            "                                                                 \n",
            " activation_46 (Activation)  (32, 64)                  0         \n",
            "                                                                 \n",
            " dense_41 (Dense)            (32, 10)                  650       \n",
            "                                                                 \n",
            " activation_47 (Activation)  (32, 10)                  0         \n",
            "                                                                 \n",
            "=================================================================\n",
            "Total params: 109386 (427.29 KB)\n",
            "Trainable params: 109386 (427.29 KB)\n",
            "Non-trainable params: 0 (0.00 Byte)\n",
            "_________________________________________________________________\n",
            "1343, Actual digit is 9, predicted 9\n",
            "4004, Actual digit is 3, predicted 3\n",
            "7799, Actual digit is 9, predicted 9\n",
            "6640, Actual digit is 7, predicted 7\n",
            "2528, Actual digit is 9, predicted 9\n",
            "1401, Actual digit is 7, predicted 7\n",
            "424, Actual digit is 0, predicted 0\n",
            "6202, Actual digit is 1, predicted 1\n",
            "7661, Actual digit is 1, predicted 1\n",
            "4173, Actual digit is 2, predicted 2\n",
            "4486, Actual digit is 8, predicted 8\n",
            "7233, Actual digit is 3, predicted 3\n",
            "5342, Actual digit is 0, predicted 0\n",
            "5318, Actual digit is 1, predicted 1\n",
            "4648, Actual digit is 9, predicted 9\n",
            "1994, Actual digit is 1, predicted 1\n",
            "7244, Actual digit is 8, predicted 8\n",
            "8652, Actual digit is 5, predicted 5\n",
            "1514, Actual digit is 2, predicted 2\n",
            "9713, Actual digit is 9, predicted 9\n"
          ]
        }
      ]
    },
    {
      "cell_type": "markdown",
      "source": [
        "**Модель №2**"
      ],
      "metadata": {
        "id": "W4-Fl6uX7umv"
      }
    },
    {
      "cell_type": "code",
      "source": [
        "def model_2():\n",
        "    print(\"Test model with conv2d layers\")\n",
        "\n",
        "    model = create_model_conv2d()\n",
        "\n",
        "    (X_train, y_train), (X_test, y_test) = get_train_and_test_data()\n",
        "\n",
        "    train_model(model_to_train=model, x_train=X_train, y_train=y_train, epochs=50)\n",
        "    test_model(model_to_test=model, x_test=X_test, y_test=y_test, show_image=False)"
      ],
      "metadata": {
        "id": "4Gse1e4j6k0Q"
      },
      "execution_count": 39,
      "outputs": []
    },
    {
      "cell_type": "code",
      "source": [
        "model_2()"
      ],
      "metadata": {
        "id": "JiuITa6b_3KE",
        "colab": {
          "base_uri": "https://localhost:8080/"
        },
        "outputId": "8f278c24-cda4-45c4-d526-f618ea46bd5f"
      },
      "execution_count": 40,
      "outputs": [
        {
          "output_type": "stream",
          "name": "stdout",
          "text": [
            "Test model with conv2d layers\n",
            "Epoch 1/50\n",
            "1875/1875 [==============================] - 9s 4ms/step - loss: 0.6014 - accuracy: 0.8095\n",
            "Epoch 2/50\n",
            "1875/1875 [==============================] - 8s 4ms/step - loss: 0.3094 - accuracy: 0.9072\n",
            "Epoch 3/50\n",
            "1875/1875 [==============================] - 8s 4ms/step - loss: 0.2386 - accuracy: 0.9280\n",
            "Epoch 4/50\n",
            "1875/1875 [==============================] - 8s 4ms/step - loss: 0.1947 - accuracy: 0.9411\n",
            "Epoch 5/50\n",
            "1875/1875 [==============================] - 7s 4ms/step - loss: 0.1606 - accuracy: 0.9518\n",
            "Epoch 6/50\n",
            "1875/1875 [==============================] - 8s 4ms/step - loss: 0.1437 - accuracy: 0.9572\n",
            "Epoch 7/50\n",
            "1875/1875 [==============================] - 8s 4ms/step - loss: 0.1264 - accuracy: 0.9618\n",
            "Epoch 8/50\n",
            "1875/1875 [==============================] - 8s 4ms/step - loss: 0.1133 - accuracy: 0.9662\n",
            "Epoch 9/50\n",
            "1875/1875 [==============================] - 9s 5ms/step - loss: 0.1061 - accuracy: 0.9680\n",
            "Epoch 10/50\n",
            "1875/1875 [==============================] - 7s 4ms/step - loss: 0.0992 - accuracy: 0.9699\n",
            "Epoch 11/50\n",
            "1875/1875 [==============================] - 8s 4ms/step - loss: 0.0917 - accuracy: 0.9720\n",
            "Epoch 12/50\n",
            "1875/1875 [==============================] - 7s 4ms/step - loss: 0.0881 - accuracy: 0.9727\n",
            "Epoch 13/50\n",
            "1875/1875 [==============================] - 8s 4ms/step - loss: 0.0815 - accuracy: 0.9757\n",
            "Epoch 14/50\n",
            "1875/1875 [==============================] - 7s 4ms/step - loss: 0.0778 - accuracy: 0.9767\n",
            "Epoch 15/50\n",
            "1875/1875 [==============================] - 9s 5ms/step - loss: 0.0736 - accuracy: 0.9772\n",
            "Epoch 16/50\n",
            "1875/1875 [==============================] - 7s 4ms/step - loss: 0.0703 - accuracy: 0.9784\n",
            "Epoch 17/50\n",
            "1875/1875 [==============================] - 8s 4ms/step - loss: 0.0690 - accuracy: 0.9792\n",
            "Epoch 18/50\n",
            "1875/1875 [==============================] - 7s 4ms/step - loss: 0.0644 - accuracy: 0.9802\n",
            "Epoch 19/50\n",
            "1875/1875 [==============================] - 8s 4ms/step - loss: 0.0617 - accuracy: 0.9805\n",
            "Epoch 20/50\n",
            "1875/1875 [==============================] - 8s 4ms/step - loss: 0.0586 - accuracy: 0.9818\n",
            "Epoch 21/50\n",
            "1875/1875 [==============================] - 8s 4ms/step - loss: 0.0579 - accuracy: 0.9823\n",
            "Epoch 22/50\n",
            "1875/1875 [==============================] - 8s 4ms/step - loss: 0.0561 - accuracy: 0.9824\n",
            "Epoch 23/50\n",
            "1875/1875 [==============================] - 7s 4ms/step - loss: 0.0525 - accuracy: 0.9836\n",
            "Epoch 24/50\n",
            "1875/1875 [==============================] - 8s 4ms/step - loss: 0.0532 - accuracy: 0.9837\n",
            "Epoch 25/50\n",
            "1875/1875 [==============================] - 7s 4ms/step - loss: 0.0511 - accuracy: 0.9840\n",
            "Epoch 26/50\n",
            "1875/1875 [==============================] - 9s 5ms/step - loss: 0.0481 - accuracy: 0.9850\n",
            "Epoch 27/50\n",
            "1875/1875 [==============================] - 7s 4ms/step - loss: 0.0461 - accuracy: 0.9857\n",
            "Epoch 28/50\n",
            "1875/1875 [==============================] - 8s 4ms/step - loss: 0.0459 - accuracy: 0.9856\n",
            "Epoch 29/50\n",
            "1875/1875 [==============================] - 7s 4ms/step - loss: 0.0442 - accuracy: 0.9861\n",
            "Epoch 30/50\n",
            "1875/1875 [==============================] - 8s 4ms/step - loss: 0.0449 - accuracy: 0.9853\n",
            "Epoch 31/50\n",
            "1875/1875 [==============================] - 7s 4ms/step - loss: 0.0413 - accuracy: 0.9870\n",
            "Epoch 32/50\n",
            "1875/1875 [==============================] - 9s 5ms/step - loss: 0.0440 - accuracy: 0.9858\n",
            "Epoch 33/50\n",
            "1875/1875 [==============================] - 7s 4ms/step - loss: 0.0395 - accuracy: 0.9869\n",
            "Epoch 34/50\n",
            "1875/1875 [==============================] - 8s 4ms/step - loss: 0.0404 - accuracy: 0.9865\n",
            "Epoch 35/50\n",
            "1875/1875 [==============================] - 7s 4ms/step - loss: 0.0404 - accuracy: 0.9875\n",
            "Epoch 36/50\n",
            "1875/1875 [==============================] - 8s 4ms/step - loss: 0.0385 - accuracy: 0.9876\n",
            "Epoch 37/50\n",
            "1875/1875 [==============================] - 7s 4ms/step - loss: 0.0378 - accuracy: 0.9877\n",
            "Epoch 38/50\n",
            "1875/1875 [==============================] - 8s 4ms/step - loss: 0.0361 - accuracy: 0.9885\n",
            "Epoch 39/50\n",
            "1875/1875 [==============================] - 8s 4ms/step - loss: 0.0363 - accuracy: 0.9879\n",
            "Epoch 40/50\n",
            "1875/1875 [==============================] - 7s 4ms/step - loss: 0.0346 - accuracy: 0.9889\n",
            "Epoch 41/50\n",
            "1875/1875 [==============================] - 8s 4ms/step - loss: 0.0351 - accuracy: 0.9886\n",
            "Epoch 42/50\n",
            "1875/1875 [==============================] - 7s 4ms/step - loss: 0.0336 - accuracy: 0.9886\n",
            "Epoch 43/50\n",
            "1875/1875 [==============================] - 8s 5ms/step - loss: 0.0331 - accuracy: 0.9892\n",
            "Epoch 44/50\n",
            "1875/1875 [==============================] - 7s 4ms/step - loss: 0.0339 - accuracy: 0.9891\n",
            "Epoch 45/50\n",
            "1875/1875 [==============================] - 8s 4ms/step - loss: 0.0313 - accuracy: 0.9898\n",
            "Epoch 46/50\n",
            "1875/1875 [==============================] - 7s 4ms/step - loss: 0.0316 - accuracy: 0.9901\n",
            "Epoch 47/50\n",
            "1875/1875 [==============================] - 8s 4ms/step - loss: 0.0295 - accuracy: 0.9901\n",
            "Epoch 48/50\n",
            "1875/1875 [==============================] - 7s 4ms/step - loss: 0.0294 - accuracy: 0.9902\n",
            "Epoch 49/50\n",
            "1875/1875 [==============================] - 8s 4ms/step - loss: 0.0293 - accuracy: 0.9908\n",
            "Epoch 50/50\n",
            "1875/1875 [==============================] - 8s 4ms/step - loss: 0.0292 - accuracy: 0.9906\n",
            "Model: \"sequential_13\"\n",
            "_________________________________________________________________\n",
            " Layer (type)                Output Shape              Param #   \n",
            "=================================================================\n",
            " conv2d_4 (Conv2D)           (None, 26, 26, 32)        320       \n",
            "                                                                 \n",
            " activation_41 (Activation)  (None, 26, 26, 32)        0         \n",
            "                                                                 \n",
            " conv2d_5 (Conv2D)           (None, 24, 24, 32)        9248      \n",
            "                                                                 \n",
            " activation_42 (Activation)  (None, 24, 24, 32)        0         \n",
            "                                                                 \n",
            " max_pooling2d_2 (MaxPoolin  (None, 12, 12, 32)        0         \n",
            " g2D)                                                            \n",
            "                                                                 \n",
            " dropout_4 (Dropout)         (None, 12, 12, 32)        0         \n",
            "                                                                 \n",
            " flatten_13 (Flatten)        (None, 4608)              0         \n",
            "                                                                 \n",
            " dense_37 (Dense)            (None, 128)               589952    \n",
            "                                                                 \n",
            " activation_43 (Activation)  (None, 128)               0         \n",
            "                                                                 \n",
            " dropout_5 (Dropout)         (None, 128)               0         \n",
            "                                                                 \n",
            " dense_38 (Dense)            (None, 10)                1290      \n",
            "                                                                 \n",
            " activation_44 (Activation)  (None, 10)                0         \n",
            "                                                                 \n",
            "=================================================================\n",
            "Total params: 600810 (2.29 MB)\n",
            "Trainable params: 600810 (2.29 MB)\n",
            "Non-trainable params: 0 (0.00 Byte)\n",
            "_________________________________________________________________\n",
            "9325, Actual digit is 0, predicted 0\n",
            "5206, Actual digit is 5, predicted 5\n",
            "4142, Actual digit is 7, predicted 7\n",
            "8463, Actual digit is 5, predicted 5\n",
            "3387, Actual digit is 9, predicted 9\n",
            "3505, Actual digit is 7, predicted 7\n",
            "9635, Actual digit is 2, predicted 2\n",
            "3997, Actual digit is 7, predicted 7\n",
            "979, Actual digit is 1, predicted 1\n",
            "9028, Actual digit is 9, predicted 9\n",
            "1510, Actual digit is 5, predicted 5\n",
            "321, Actual digit is 2, predicted 2\n",
            "3956, Actual digit is 4, predicted 4\n",
            "4862, Actual digit is 0, predicted 0\n",
            "1996, Actual digit is 6, predicted 6\n",
            "8515, Actual digit is 6, predicted 6\n",
            "9011, Actual digit is 3, predicted 3\n",
            "9190, Actual digit is 1, predicted 1\n",
            "4184, Actual digit is 9, predicted 9\n",
            "5484, Actual digit is 6, predicted 6\n"
          ]
        }
      ]
    },
    {
      "cell_type": "markdown",
      "source": [
        "### Сравниваем несколько архитектур:"
      ],
      "metadata": {
        "id": "9HFAxU_1-S9V"
      }
    },
    {
      "cell_type": "markdown",
      "source": [
        "1)"
      ],
      "metadata": {
        "id": "ztY_mMBX-23p"
      }
    },
    {
      "cell_type": "code",
      "source": [],
      "metadata": {
        "id": "CWryUCiI-47J"
      },
      "execution_count": null,
      "outputs": []
    },
    {
      "cell_type": "markdown",
      "source": [
        "2)"
      ],
      "metadata": {
        "id": "NKROAPEN-3iu"
      }
    },
    {
      "cell_type": "code",
      "source": [],
      "metadata": {
        "id": "zdg14K67-4cG"
      },
      "execution_count": null,
      "outputs": []
    },
    {
      "cell_type": "markdown",
      "source": [
        "3)"
      ],
      "metadata": {
        "id": "fMb5dBB7-5N-"
      }
    },
    {
      "cell_type": "code",
      "source": [],
      "metadata": {
        "id": "4O45rDzF-8lm"
      },
      "execution_count": null,
      "outputs": []
    },
    {
      "cell_type": "markdown",
      "source": [
        "## Выводы:"
      ],
      "metadata": {
        "id": "xoYe2kgy_Jy5"
      }
    },
    {
      "cell_type": "markdown",
      "source": [
        "т"
      ],
      "metadata": {
        "id": "42SD8HW4_OQG"
      }
    }
  ]
}